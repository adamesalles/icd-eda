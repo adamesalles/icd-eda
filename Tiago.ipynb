{
 "cells": [
  {
   "cell_type": "code",
   "execution_count": 45,
   "metadata": {},
   "outputs": [],
   "source": [
    "import pandas as pd\n",
    "import numpy as np\n",
    "import matplotlib.pyplot as plt\n",
    "import seaborn as sb\n",
    "\n",
    "vgsales = pd.read_csv(\"vgsales.csv\")\n",
    "vgsales = pd.DataFrame(vgsales)\n",
    "\n",
    "vgsales['Year'] = vgsales['Year'].fillna(-1)\n",
    "vgsales['Year'] = vgsales['Year'].astype(int)\n",
    "vgsales.set_index('Rank', inplace=True, drop=True)\n",
    "       \n"
   ]
  },
  {
   "cell_type": "code",
   "execution_count": 79,
   "metadata": {},
   "outputs": [
    {
     "output_type": "stream",
     "name": "stdout",
     "text": [
      "100.07999999999994\n11.379999999999999\n35.77000000000001\n28.859999999999996\n16.790000000000003\n50.360000000000014\n53.940000000000005\n37.07\n21.739999999999995\n47.22\n"
     ]
    }
   ],
   "source": [
    "vgsales_year = vgsales.groupby([\"Year\"],as_index=False)[[\"Global_Sales\"]].sum()\n",
    "vgsales_year\n",
    "\n",
    "#for year in vgsales_year[\"Year\"]:\n",
    "#    for sales in vgsales_year[\"Global_Sales\"]:\n",
    "        \n",
    "#    print(year)"
   ]
  },
  {
   "source": [
    "# Teste de lógica da operação de cálculo de vendas totais por ano:"
   ],
   "cell_type": "markdown",
   "metadata": {}
  },
  {
   "cell_type": "code",
   "execution_count": 52,
   "metadata": {},
   "outputs": [
    {
     "output_type": "execute_result",
     "data": {
      "text/plain": [
       "{2000: 43.8, 2001: 202.8, 2002: 290.8}"
      ]
     },
     "metadata": {},
     "execution_count": 52
    }
   ],
   "source": [
    "teste = [[2000, 23.7],\n",
    "         [2000, 20.1],\n",
    "         [2001, 34],\n",
    "         [2001, 47],\n",
    "         [2001, 78],\n",
    "         [2002, 88]]\n",
    "\n",
    "teste2 = {}\n",
    "sales = 0\n",
    "\n",
    "for lista in teste:\n",
    "    sales += lista[1]\n",
    "    teste2[lista[0]] = sales\n",
    "\n",
    "\n",
    "teste2"
   ]
  },
  {
   "cell_type": "code",
   "execution_count": null,
   "metadata": {},
   "outputs": [],
   "source": []
  },
  {
   "cell_type": "code",
   "execution_count": null,
   "metadata": {},
   "outputs": [],
   "source": []
  },
  {
   "cell_type": "code",
   "execution_count": null,
   "metadata": {},
   "outputs": [],
   "source": []
  }
 ],
 "metadata": {
  "kernelspec": {
   "display_name": "Python 3",
   "language": "python",
   "name": "python3"
  },
  "language_info": {
   "codemirror_mode": {
    "name": "ipython",
    "version": 3
   },
   "file_extension": ".py",
   "mimetype": "text/x-python",
   "name": "python",
   "nbconvert_exporter": "python",
   "pygments_lexer": "ipython3",
   "version": "3.8.5-final"
  }
 },
 "nbformat": 4,
 "nbformat_minor": 4
}